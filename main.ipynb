{
 "cells": [
  {
   "cell_type": "code",
   "execution_count": 1,
   "id": "e6d4b0a4-8950-4b7f-aaf0-4acb147edffd",
   "metadata": {},
   "outputs": [],
   "source": [
    "# import sys\n",
    "# sys.path.append(\"/home/ermolaev/dev/study/OtterAndOil\")\n",
    "\n",
    "import spaces as sp\n",
    "import vehicles as vs\n",
    "import controllers as cs\n",
    "\n",
    "from lib import *\n",
    "from tools import *"
   ]
  },
  {
   "cell_type": "code",
   "execution_count": 2,
   "id": "5dcc8906-1416-4ef7-8305-ed7c98ea9866",
   "metadata": {},
   "outputs": [],
   "source": [
    "arguments = read_and_assign_arguments(\"config.json\")"
   ]
  },
  {
   "cell_type": "code",
   "execution_count": 3,
   "id": "6926faf1-b60d-4516-9dcd-ca58612dd093",
   "metadata": {},
   "outputs": [
    {
     "name": "stdout",
     "output_type": "stream",
     "text": [
      "---vehicle--------------------------------------------------------------------------\n",
      "Dubins Vehicle (see 'dubins.py' for more details)\n",
      "Length: 2.0 m\n",
      "Control: sigma\n",
      "Wheel radius: 0.315 m\n",
      "Distance between the wheels: 1 m\n",
      "Starting point: [0.0, 0.0]\n",
      "---vehicle--------------------------------------------------------------------------\n",
      "Otter USV (see 'otter.py' for more details)\n",
      "Length: 2.0 m\n",
      "Control: sigma\n",
      "Starting point: [0.0, 0.0]\n"
     ]
    }
   ],
   "source": [
    "###############################################################################\n",
    "# Vehicle constructors\n",
    "###############################################################################\n",
    "if arguments.vehicles == 1:\n",
    "    starting_points = [[0, 0]]\n",
    "elif len(arguments.start_points) == arguments.vehicles:\n",
    "    starting_points = arguments.start_points\n",
    "else:\n",
    "    starting_points = [next(point_generator(arguments.radius, arguments.vehicles)) for _ in range(arguments.vehicles)]\n",
    "vehicles = []\n",
    "ng = number_generator()\n",
    "cg = color_generator()\n",
    "for vehicle_name in arguments.vehicle_types:\n",
    "    for order_number in range(arguments.vehicles):\n",
    "        vehicles.append(vs.create_instance(vehicle_name,\n",
    "                                           V_current=arguments.V_current,\n",
    "                                           serial_number=next(ng),\n",
    "                                           shift=arguments.shift_vehicle,\n",
    "                                           color=next(cg),\n",
    "                                           starting_point=starting_points[order_number]))\n",
    "\n",
    "for vehicle in vehicles:\n",
    "    print(vehicle)"
   ]
  },
  {
   "cell_type": "code",
   "execution_count": 5,
   "id": "5c2eb3b0-4521-4bfb-86e8-e1d9e112d36c",
   "metadata": {},
   "outputs": [
    {
     "ename": "TypeError",
     "evalue": "'str' object cannot be interpreted as an integer",
     "output_type": "error",
     "traceback": [
      "\u001b[0;31m---------------------------------------------------------------------------\u001b[0m",
      "\u001b[0;31mTypeError\u001b[0m                                 Traceback (most recent call last)",
      "\u001b[0;32m/tmp/ipykernel_139974/3126935141.py\u001b[0m in \u001b[0;36m<module>\u001b[0;34m\u001b[0m\n\u001b[0;32m----> 1\u001b[0;31m space = sp.create_instance(arguments.peak_type,\n\u001b[0m\u001b[1;32m      2\u001b[0m                            \u001b[0mx_range\u001b[0m\u001b[0;34m=\u001b[0m\u001b[0;34m(\u001b[0m\u001b[0;34m-\u001b[0m\u001b[0marguments\u001b[0m\u001b[0;34m.\u001b[0m\u001b[0maxis_abs_max\u001b[0m\u001b[0;34m,\u001b[0m \u001b[0marguments\u001b[0m\u001b[0;34m.\u001b[0m\u001b[0maxis_abs_max\u001b[0m\u001b[0;34m)\u001b[0m\u001b[0;34m,\u001b[0m\u001b[0;34m\u001b[0m\u001b[0;34m\u001b[0m\u001b[0m\n\u001b[1;32m      3\u001b[0m                            \u001b[0my_range\u001b[0m\u001b[0;34m=\u001b[0m\u001b[0;34m(\u001b[0m\u001b[0;34m-\u001b[0m\u001b[0marguments\u001b[0m\u001b[0;34m.\u001b[0m\u001b[0maxis_abs_max\u001b[0m\u001b[0;34m,\u001b[0m \u001b[0marguments\u001b[0m\u001b[0;34m.\u001b[0m\u001b[0maxis_abs_max\u001b[0m\u001b[0;34m)\u001b[0m\u001b[0;34m,\u001b[0m\u001b[0;34m\u001b[0m\u001b[0;34m\u001b[0m\u001b[0m\n\u001b[1;32m      4\u001b[0m                            \u001b[0mgrid_size\u001b[0m\u001b[0;34m=\u001b[0m\u001b[0marguments\u001b[0m\u001b[0;34m.\u001b[0m\u001b[0mgrid_size\u001b[0m\u001b[0;34m,\u001b[0m\u001b[0;34m\u001b[0m\u001b[0;34m\u001b[0m\u001b[0m\n\u001b[1;32m      5\u001b[0m                            \u001b[0mshift_xyz\u001b[0m\u001b[0;34m=\u001b[0m\u001b[0marguments\u001b[0m\u001b[0;34m.\u001b[0m\u001b[0mshift_xyz\u001b[0m\u001b[0;34m,\u001b[0m\u001b[0;34m\u001b[0m\u001b[0;34m\u001b[0m\u001b[0m\n",
      "\u001b[0;32m~/dev/study/OtterAndOil/spaces/__init__.py\u001b[0m in \u001b[0;36mcreate_instance\u001b[0;34m(class_name, **arguments)\u001b[0m\n\u001b[1;32m     12\u001b[0m \u001b[0;32mdef\u001b[0m \u001b[0mcreate_instance\u001b[0m\u001b[0;34m(\u001b[0m\u001b[0mclass_name\u001b[0m\u001b[0;34m:\u001b[0m \u001b[0mstr\u001b[0m\u001b[0;34m,\u001b[0m \u001b[0;34m**\u001b[0m\u001b[0marguments\u001b[0m\u001b[0;34m)\u001b[0m \u001b[0;34m->\u001b[0m \u001b[0mBaseSpace\u001b[0m\u001b[0;34m:\u001b[0m\u001b[0;34m\u001b[0m\u001b[0;34m\u001b[0m\u001b[0m\n\u001b[1;32m     13\u001b[0m     \u001b[0;32mif\u001b[0m \u001b[0mclass_name\u001b[0m \u001b[0;32min\u001b[0m \u001b[0mspace_instance\u001b[0m\u001b[0;34m:\u001b[0m\u001b[0;34m\u001b[0m\u001b[0;34m\u001b[0m\u001b[0m\n\u001b[0;32m---> 14\u001b[0;31m         \u001b[0;32mreturn\u001b[0m \u001b[0mspace_instance\u001b[0m\u001b[0;34m[\u001b[0m\u001b[0mclass_name\u001b[0m\u001b[0;34m]\u001b[0m\u001b[0;34m(\u001b[0m\u001b[0marguments\u001b[0m\u001b[0;34m)\u001b[0m\u001b[0;34m\u001b[0m\u001b[0;34m\u001b[0m\u001b[0m\n\u001b[0m\u001b[1;32m     15\u001b[0m     \u001b[0;32melse\u001b[0m\u001b[0;34m:\u001b[0m\u001b[0;34m\u001b[0m\u001b[0;34m\u001b[0m\u001b[0m\n\u001b[1;32m     16\u001b[0m         \u001b[0;32mraise\u001b[0m \u001b[0mValueError\u001b[0m\u001b[0;34m(\u001b[0m\u001b[0;34mf\"Unknown class name: {class_name}\"\u001b[0m\u001b[0;34m)\u001b[0m\u001b[0;34m\u001b[0m\u001b[0;34m\u001b[0m\u001b[0m\n",
      "\u001b[0;32m~/dev/study/OtterAndOil/spaces/GaussianSpace.py\u001b[0m in \u001b[0;36m__init__\u001b[0;34m(self, x_range, y_range, grid_size, shift_xyz, space_filename, target_isoline)\u001b[0m\n\u001b[1;32m     15\u001b[0m         \u001b[0mshift_xyz\u001b[0m \u001b[0;34m(\u001b[0m\u001b[0mint\u001b[0m\u001b[0;34m)\u001b[0m\u001b[0;34m:\u001b[0m \u001b[0mShift\u001b[0m \u001b[0mof\u001b[0m \u001b[0mall\u001b[0m \u001b[0mpoints\u001b[0m \u001b[0mof\u001b[0m \u001b[0mspace\u001b[0m \u001b[0mby\u001b[0m \u001b[0mvalues\u001b[0m \u001b[0;32mfrom\u001b[0m \u001b[0mthis\u001b[0m \u001b[0marray\u001b[0m\u001b[0;34m,\u001b[0m \u001b[0mrespectively\u001b[0m \u001b[0mXYZ\u001b[0m\u001b[0;34m.\u001b[0m\u001b[0;34m\u001b[0m\u001b[0;34m\u001b[0m\u001b[0m\n\u001b[1;32m     16\u001b[0m         \"\"\"\n\u001b[0;32m---> 17\u001b[0;31m         \u001b[0msuper\u001b[0m\u001b[0;34m(\u001b[0m\u001b[0;34m)\u001b[0m\u001b[0;34m.\u001b[0m\u001b[0m__init__\u001b[0m\u001b[0;34m(\u001b[0m\u001b[0mx_range\u001b[0m\u001b[0;34m,\u001b[0m \u001b[0my_range\u001b[0m\u001b[0;34m,\u001b[0m \u001b[0mgrid_size\u001b[0m\u001b[0;34m,\u001b[0m \u001b[0mshift_xyz\u001b[0m\u001b[0;34m,\u001b[0m \u001b[0mspace_filename\u001b[0m\u001b[0;34m,\u001b[0m \u001b[0mtarget_isoline\u001b[0m\u001b[0;34m)\u001b[0m\u001b[0;34m\u001b[0m\u001b[0;34m\u001b[0m\u001b[0m\n\u001b[0m\u001b[1;32m     18\u001b[0m         \"\"\"\n\u001b[1;32m     19\u001b[0m             \u001b[0mAdd\u001b[0m \u001b[0ma\u001b[0m \u001b[0mGaussian\u001b[0m \u001b[0mpeak\u001b[0m \u001b[0mto\u001b[0m \u001b[0mthe\u001b[0m \u001b[0mZ\u001b[0m \u001b[0msurface\u001b[0m\u001b[0;34m.\u001b[0m\u001b[0;34m\u001b[0m\u001b[0;34m\u001b[0m\u001b[0m\n",
      "\u001b[0;32m~/dev/study/OtterAndOil/spaces/BaseSpace.py\u001b[0m in \u001b[0;36m__init__\u001b[0;34m(self, x_range, y_range, grid_size, shift_xyz, space_filename, target_isoline)\u001b[0m\n\u001b[1;32m     64\u001b[0m         \u001b[0mshift_xyz\u001b[0m \u001b[0;34m(\u001b[0m\u001b[0mint\u001b[0m\u001b[0;34m)\u001b[0m\u001b[0;34m:\u001b[0m \u001b[0mShift\u001b[0m \u001b[0mof\u001b[0m \u001b[0mall\u001b[0m \u001b[0mpoints\u001b[0m \u001b[0mof\u001b[0m \u001b[0mspace\u001b[0m \u001b[0mby\u001b[0m \u001b[0mvalues\u001b[0m \u001b[0;32mfrom\u001b[0m \u001b[0mthis\u001b[0m \u001b[0marray\u001b[0m\u001b[0;34m,\u001b[0m \u001b[0mrespectively\u001b[0m \u001b[0mXYZ\u001b[0m\u001b[0;34m.\u001b[0m\u001b[0;34m\u001b[0m\u001b[0;34m\u001b[0m\u001b[0m\n\u001b[1;32m     65\u001b[0m         \"\"\"\n\u001b[0;32m---> 66\u001b[0;31m         \u001b[0mself\u001b[0m\u001b[0;34m.\u001b[0m\u001b[0mx\u001b[0m \u001b[0;34m=\u001b[0m \u001b[0mnp\u001b[0m\u001b[0;34m.\u001b[0m\u001b[0mlinspace\u001b[0m\u001b[0;34m(\u001b[0m\u001b[0;34m*\u001b[0m\u001b[0mx_range\u001b[0m\u001b[0;34m,\u001b[0m \u001b[0mgrid_size\u001b[0m\u001b[0;34m)\u001b[0m\u001b[0;34m\u001b[0m\u001b[0;34m\u001b[0m\u001b[0m\n\u001b[0m\u001b[1;32m     67\u001b[0m         \u001b[0mself\u001b[0m\u001b[0;34m.\u001b[0m\u001b[0my\u001b[0m \u001b[0;34m=\u001b[0m \u001b[0mnp\u001b[0m\u001b[0;34m.\u001b[0m\u001b[0mlinspace\u001b[0m\u001b[0;34m(\u001b[0m\u001b[0;34m*\u001b[0m\u001b[0my_range\u001b[0m\u001b[0;34m,\u001b[0m \u001b[0mgrid_size\u001b[0m\u001b[0;34m)\u001b[0m\u001b[0;34m\u001b[0m\u001b[0;34m\u001b[0m\u001b[0m\n\u001b[1;32m     68\u001b[0m         \u001b[0mself\u001b[0m\u001b[0;34m.\u001b[0m\u001b[0mX\u001b[0m\u001b[0;34m,\u001b[0m \u001b[0mself\u001b[0m\u001b[0;34m.\u001b[0m\u001b[0mY\u001b[0m \u001b[0;34m=\u001b[0m \u001b[0mnp\u001b[0m\u001b[0;34m.\u001b[0m\u001b[0mmeshgrid\u001b[0m\u001b[0;34m(\u001b[0m\u001b[0mself\u001b[0m\u001b[0;34m.\u001b[0m\u001b[0mx\u001b[0m\u001b[0;34m,\u001b[0m \u001b[0mself\u001b[0m\u001b[0;34m.\u001b[0m\u001b[0my\u001b[0m\u001b[0;34m)\u001b[0m\u001b[0;34m\u001b[0m\u001b[0;34m\u001b[0m\u001b[0m\n",
      "\u001b[0;32m<__array_function__ internals>\u001b[0m in \u001b[0;36mlinspace\u001b[0;34m(*args, **kwargs)\u001b[0m\n",
      "\u001b[0;32m/usr/lib/python3/dist-packages/numpy/core/function_base.py\u001b[0m in \u001b[0;36mlinspace\u001b[0;34m(start, stop, num, endpoint, retstep, dtype, axis)\u001b[0m\n\u001b[1;32m    118\u001b[0m \u001b[0;34m\u001b[0m\u001b[0m\n\u001b[1;32m    119\u001b[0m     \"\"\"\n\u001b[0;32m--> 120\u001b[0;31m     \u001b[0mnum\u001b[0m \u001b[0;34m=\u001b[0m \u001b[0moperator\u001b[0m\u001b[0;34m.\u001b[0m\u001b[0mindex\u001b[0m\u001b[0;34m(\u001b[0m\u001b[0mnum\u001b[0m\u001b[0;34m)\u001b[0m\u001b[0;34m\u001b[0m\u001b[0;34m\u001b[0m\u001b[0m\n\u001b[0m\u001b[1;32m    121\u001b[0m     \u001b[0;32mif\u001b[0m \u001b[0mnum\u001b[0m \u001b[0;34m<\u001b[0m \u001b[0;36m0\u001b[0m\u001b[0;34m:\u001b[0m\u001b[0;34m\u001b[0m\u001b[0;34m\u001b[0m\u001b[0m\n\u001b[1;32m    122\u001b[0m         \u001b[0;32mraise\u001b[0m \u001b[0mValueError\u001b[0m\u001b[0;34m(\u001b[0m\u001b[0;34m\"Number of samples, %s, must be non-negative.\"\u001b[0m \u001b[0;34m%\u001b[0m \u001b[0mnum\u001b[0m\u001b[0;34m)\u001b[0m\u001b[0;34m\u001b[0m\u001b[0;34m\u001b[0m\u001b[0m\n",
      "\u001b[0;31mTypeError\u001b[0m: 'str' object cannot be interpreted as an integer"
     ]
    }
   ],
   "source": [
    "space = sp.create_instance(arguments.peak_type,\n",
    "                           x_range=(-arguments.axis_abs_max, arguments.axis_abs_max),\n",
    "                           y_range=(-arguments.axis_abs_max, arguments.axis_abs_max),\n",
    "                           grid_size=arguments.grid_size,\n",
    "                           shift_xyz=arguments.shift_xyz,\n",
    "                           space_filename=arguments.peaks_filename,\n",
    "                           target_isoline=arguments.target_isoline)\n",
    "space.set_contour_points(tol=1)\n",
    "print(space)"
   ]
  },
  {
   "cell_type": "code",
   "execution_count": null,
   "id": "ff32e0d3-920f-48ea-a0d6-27d710911fde",
   "metadata": {},
   "outputs": [],
   "source": [
    "timestamped_suffix: str = create_timestamped_suffix()\n",
    "timestamped_folder: str = create_timestamped_folder(space.type,\n",
    "                                                    f\"s{1 + 1}\",\n",
    "                                                    timestamped_suffix=timestamped_suffix)\n",
    "\n",
    "space.plotting_surface(timestamped_folder, timestamped_suffix)"
   ]
  },
  {
   "cell_type": "code",
   "execution_count": null,
   "id": "765a6613-5918-4e4e-a892-790bec9b6ba5",
   "metadata": {},
   "outputs": [],
   "source": [
    "import numpy as np\n",
    "import matplotlib.pyplot as plt\n",
    "import inspect\n",
    "\n",
    "# Example class\n",
    "class PlotterClass:\n",
    "    name = 'plotter'\n",
    "    def __init__(self):\n",
    "        self.data1 = np.random.rand(10)\n",
    "        self.data2 = np.random.rand(10)\n",
    "\n",
    "    def plot_data1(self):\n",
    "        plt.figure()\n",
    "        plt.plot(self.data1)\n",
    "        plt.title(\"Plot of data1\")\n",
    "        plt.show()\n",
    "\n",
    "    def plot_data2(self):\n",
    "        plt.figure()\n",
    "        plt.plot(self.data2)\n",
    "        plt.title(\"Plot of data2\")\n",
    "        plt.show()        \n",
    "\n",
    "# External render function\n",
    "def render_all(obj):\n",
    "    for name, method in inspect.getmembers(obj, predicate=inspect.ismethod):\n",
    "        print(name)\n",
    "        if name.startswith(\"plot_\"):  # Identify plot methods\n",
    "            method()  # Call the method\n",
    "\n",
    "class_registry = {}\n",
    "\n",
    "# Register decorator\n",
    "def register_class(cls):\n",
    "    class_registry[cls.name] = cls\n",
    "    return cls\n",
    "\n",
    "# Usage\n",
    "obj = PlotterClass()\n",
    "register_class(obj)\n",
    "print(class_registry)\n",
    "render_all(obj)"
   ]
  },
  {
   "cell_type": "code",
   "execution_count": null,
   "id": "631f4448-e627-4168-9779-1e2fcbac67ce",
   "metadata": {},
   "outputs": [],
   "source": []
  }
 ],
 "metadata": {
  "kernelspec": {
   "display_name": "Python 3 (ipykernel)",
   "language": "python",
   "name": "python3"
  },
  "language_info": {
   "codemirror_mode": {
    "name": "ipython",
    "version": 3
   },
   "file_extension": ".py",
   "mimetype": "text/x-python",
   "name": "python",
   "nbconvert_exporter": "python",
   "pygments_lexer": "ipython3",
   "version": "3.10.12"
  }
 },
 "nbformat": 4,
 "nbformat_minor": 5
}
